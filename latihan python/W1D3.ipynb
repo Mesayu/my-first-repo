{
 "cells": [
  {
   "cell_type": "markdown",
   "metadata": {},
   "source": [
    "# Conditional & Loops"
   ]
  },
  {
   "cell_type": "markdown",
   "metadata": {},
   "source": [
    "## Conditional\n",
    "\n",
    "if <exspertion>:\n",
    "    <statement>"
   ]
  },
  {
   "cell_type": "code",
   "execution_count": 1,
   "metadata": {},
   "outputs": [
    {
     "name": "stdout",
     "output_type": "stream",
     "text": [
      "hasil benar\n"
     ]
    }
   ],
   "source": [
    "# conditional\n",
    "# cek apakah 1 + 1 == 2 (true/false)\n",
    "if (1 + 1) == 2:\n",
    "    # kodingan yang akan di execute\n",
    "    print(\"hasil benar\")"
   ]
  },
  {
   "cell_type": "markdown",
   "metadata": {},
   "source": [
    "### Grouping statement\n",
    "if <exspertion>:\n",
    "    <statement>\n",
    "    <statement>\n",
    "    <statement>"
   ]
  },
  {
   "cell_type": "code",
   "execution_count": null,
   "metadata": {},
   "outputs": [],
   "source": [
    "# conditional\n",
    "# cek apakah 1 + 1 == 2 (true/false)\n",
    "if (1 + 1) == 3:\n",
    "    # kodingan yang akan di execute\n",
    "    print(\"hasil benar\")\n",
    "else:\n",
    "    print(\"salah\")"
   ]
  },
  {
   "cell_type": "code",
   "execution_count": 5,
   "metadata": {},
   "outputs": [
    {
     "name": "stdout",
     "output_type": "stream",
     "text": [
      "hasil kondisi 2 benar\n"
     ]
    }
   ],
   "source": [
    "# conditional\n",
    "# cek apakah 1 + 1 == 2 (true/false)\n",
    "# kondisi 1 = cek 1 + 1\n",
    "# kondisi 2 + cek angka ganjil/genap\n",
    "# boolean logic +> and/or\n",
    "\n",
    "#   true  and  false => false\n",
    "# kondisi 1 = konsisi 2\n",
    "#   true  or  false => true\n",
    "# kondisi 1 = konsisi 2\n",
    "\n",
    "\n",
    "# seperate condition => elif\n",
    "varA = 7\n",
    "if (1 + varA) == 6:\n",
    "    print(\"hasil kondisi 1 benar\")\n",
    "elif (varA % 2 == 1):\n",
    "    print(\"hasil kondisi 2 benar\")\n",
    "else:\n",
    "    print(\"salah\")"
   ]
  },
  {
   "cell_type": "code",
   "execution_count": 13,
   "metadata": {},
   "outputs": [],
   "source": [
    "# handling multiple condition : 2 approach\n",
    "# cobine condition ==> boolean logic\n",
    "\n",
    "varA = 7\n",
    "if (1 + varA) == 6 and (varA % 2 ==1):\n",
    "    print(\"hasil kondisi 1 dan 2 benar\")"
   ]
  },
  {
   "cell_type": "code",
   "execution_count": 12,
   "metadata": {},
   "outputs": [
    {
     "name": "stdout",
     "output_type": "stream",
     "text": [
      "hello\n"
     ]
    }
   ],
   "source": [
    "# contoh \n",
    "# menu 1 = hello\n",
    "# menu 2 = lorem ipsum  \n",
    "# exit = bye bye\n",
    "pilihan = 1\n",
    "\n",
    "# seperate condition\n",
    "if pilihan == 1:\n",
    "    print(\"hello\")\n",
    "elif pilihan == 2:\n",
    "    print(\"lorem ipsum\")\n",
    "else:\n",
    "    print(\"salah\")"
   ]
  },
  {
   "cell_type": "code",
   "execution_count": null,
   "metadata": {},
   "outputs": [],
   "source": [
    "# match\n",
    "pilihan = 2\n",
    "\n",
    "# match pilihan:\n",
    "#     case 1:\n",
    "#         print(\"hello\")\n",
    "#     case 2:\n",
    "#         print(\"lorem ipsum\")\n",
    "#     case \"exit\":\n",
    "#         print(\"bye bye\")\n",
    "#     case _: ==> else"
   ]
  },
  {
   "cell_type": "code",
   "execution_count": null,
   "metadata": {},
   "outputs": [],
   "source": [
    "# pass statement\n",
    "if 1==2:\n",
    "    pass"
   ]
  },
  {
   "cell_type": "markdown",
   "metadata": {},
   "source": [
    "# Nested if constuct => if dalam if"
   ]
  },
  {
   "cell_type": "code",
   "execution_count": null,
   "metadata": {},
   "outputs": [],
   "source": [
    "pilihan = 5\n",
    "if pilihan == 1:\n",
    "    print('hello')\n",
    "    if pilihan % 2 == 1:\n",
    "        print('ganjil')\n",
    "    else:\n",
    "        print('genap')\n",
    "elif pilihan == 2:\n",
    "    print('') "
   ]
  },
  {
   "cell_type": "code",
   "execution_count": 15,
   "metadata": {},
   "outputs": [
    {
     "name": "stdout",
     "output_type": "stream",
     "text": [
      "hello\n"
     ]
    }
   ],
   "source": [
    "# ternary\n",
    "pilihan = 1\n",
    "# if pilihan ==1:\n",
    "#     print('hello')\n",
    "\n",
    "# ternary max. 1 baris == if..else.. tapi penulisannya berbeda, kelemahannya statement tidak bisa lebih dari 1\n",
    "print(\"hello\") if pilihan == 1 else print(\"not 1\")"
   ]
  },
  {
   "cell_type": "markdown",
   "metadata": {},
   "source": [
    "# LOOPS\n",
    "- while  indefinite berhubungan dengn kondisi\n",
    "- for definite, tau selesai di putaran berapa"
   ]
  },
  {
   "cell_type": "code",
   "execution_count": 21,
   "metadata": {},
   "outputs": [
    {
     "name": "stdout",
     "output_type": "stream",
     "text": [
      "1\n",
      "2\n",
      "3\n",
      "4\n",
      "5\n",
      "6\n",
      "7\n",
      "8\n",
      "9\n",
      "10\n"
     ]
    }
   ],
   "source": [
    "# menjalankan program 1 + 1, 1 + 2, 1 + 3..., \n",
    "# print(1 + 1)\n",
    "# print(1 + 2)\n",
    "# print(1 + 3)\n",
    "# print(1 + 4)\n",
    "\n",
    "# infinite loop\n",
    "\n",
    "# while\n",
    "number = 1\n",
    "while number <= 10:\n",
    "    print(number)\n",
    "    number = number + 1\n",
    "\n"
   ]
  },
  {
   "cell_type": "code",
   "execution_count": 20,
   "metadata": {},
   "outputs": [
    {
     "name": "stdout",
     "output_type": "stream",
     "text": [
      "1\n",
      "2\n",
      "4\n",
      "5\n",
      "6\n",
      "7\n",
      "8\n",
      "9\n",
      "10\n"
     ]
    }
   ],
   "source": [
    "# terminate --> stop looping\n",
    "# break -> terminate looping completely\n",
    "# continue -> terminate iteration/skip 1 putaran\n",
    "\n",
    "number = 1\n",
    "while number <= 10:\n",
    "    if number == 3:\n",
    "        number = number + 1\n",
    "        continue\n",
    "    else:\n",
    "        print(number)\n",
    "        number = number + 1\n",
    "   "
   ]
  },
  {
   "cell_type": "code",
   "execution_count": 22,
   "metadata": {},
   "outputs": [
    {
     "name": "stdout",
     "output_type": "stream",
     "text": [
      "1\n",
      "2\n"
     ]
    }
   ],
   "source": [
    "# break\n",
    "number = 1\n",
    "while number <= 10:\n",
    "    if number == 3:\n",
    "        number = number + 1\n",
    "        break\n",
    "    \n",
    "        print(number)\n",
    "        number = number + 1"
   ]
  },
  {
   "cell_type": "code",
   "execution_count": null,
   "metadata": {},
   "outputs": [],
   "source": [
    "# nested while loops --> contoh liat di colab\n"
   ]
  },
  {
   "cell_type": "code",
   "execution_count": 32,
   "metadata": {},
   "outputs": [
    {
     "name": "stdout",
     "output_type": "stream",
     "text": [
      "0\n",
      "1\n",
      "2\n",
      "3\n",
      "4\n",
      "6\n",
      "7\n",
      "8\n",
      "9\n",
      "10\n"
     ]
    },
    {
     "data": {
      "text/plain": [
       "[None, None, None, None, None, None, None, None, None, None]"
      ]
     },
     "execution_count": 32,
     "metadata": {},
     "output_type": "execute_result"
    }
   ],
   "source": [
    "# for loop\n",
    "# iterable --> list, tuple, range, dictionary\n",
    "\n",
    "# for x in [1, 2, 'hello', 3]: \n",
    "#     print(x)\n",
    "\n",
    "# for x in range(1,11):\n",
    "#     print(x)\n",
    "\n",
    "# for x in range(1,11):\n",
    "#     if x == 5:\n",
    "#         continue\n",
    "#     print(x)\n",
    "\n",
    "# ternary for\n",
    "# [print(x) for x in range(11)]\n",
    "\n",
    "[print(x) for x in range(11) if x != 5]\n",
    "    "
   ]
  },
  {
   "cell_type": "code",
   "execution_count": 34,
   "metadata": {},
   "outputs": [
    {
     "name": "stdout",
     "output_type": "stream",
     "text": [
      "1\n",
      "22\n",
      "333\n",
      "4444\n",
      "55555\n",
      "666666\n",
      "7777777\n",
      "88888888\n",
      "999999999\n"
     ]
    }
   ],
   "source": [
    "[1,2,3,4,5,6,7,8,9]\n",
    "# # loop 1\n",
    "# i = 1\n",
    "\n",
    "# # loop j\n",
    "# [0]\n",
    "\n",
    "# #putRn 1\n",
    "# [1,2,3,4,5,6,7,8,9]# putaran 2\n",
    "# 1 = 2\n",
    "\n",
    "# # loop j\n",
    "# [0,1]\n",
    "\n",
    "\n",
    "\n",
    "\n",
    "for i in range (1, 10):\n",
    "    for j in range(i):\n",
    "        print(i, end='')\n",
    "    print()\n"
   ]
  }
 ],
 "metadata": {
  "kernelspec": {
   "display_name": "base",
   "language": "python",
   "name": "python3"
  },
  "language_info": {
   "codemirror_mode": {
    "name": "ipython",
    "version": 3
   },
   "file_extension": ".py",
   "mimetype": "text/x-python",
   "name": "python",
   "nbconvert_exporter": "python",
   "pygments_lexer": "ipython3",
   "version": "3.9.18"
  }
 },
 "nbformat": 4,
 "nbformat_minor": 2
}
